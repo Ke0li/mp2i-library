{
 "cells": [
  {
   "cell_type": "code",
   "execution_count": 1,
   "id": "f98fb398-8ec1-4b4a-9d3f-d4c7482e3025",
   "metadata": {},
   "outputs": [
    {
     "name": "stdout",
     "output_type": "stream",
     "text": [
      "val _maximum : 'a array -> 'a = <fun>\n",
      "val _concat : 'a list -> 'a list -> 'a list = <fun>\n",
      "val _partition : 'a -> 'a list -> 'a list * 'a list = <fun>\n",
      "val quicksort : 'a list -> 'a list = <fun>\n",
      "val tri_comptage : int array -> unit = <fun>\n",
      "val split : 'a list -> 'a list * 'a list = <fun>\n",
      "val fusion : 'a list -> 'a list -> 'a list = <fun>\n",
      "val tri : 'a list -> 'a list = <fun>\n"
     ]
    }
   ],
   "source": [
    "#use \"sort.ml\""
   ]
  },
  {
   "cell_type": "code",
   "execution_count": 2,
   "id": "09e0aada-e890-4d64-9ea9-6e80d7594683",
   "metadata": {},
   "outputs": [
    {
     "data": {
      "text/plain": [
       "- : int = 9\n"
      ]
     },
     "execution_count": 2,
     "metadata": {},
     "output_type": "execute_result"
    }
   ],
   "source": [
    "_maximum [|1;5;9;4;6;3;7;2;5;1;6;1|]"
   ]
  },
  {
   "cell_type": "code",
   "execution_count": 5,
   "id": "71397145-f8ce-4d6b-a6a4-d35c8da53d9e",
   "metadata": {},
   "outputs": [
    {
     "data": {
      "text/plain": [
       "- : int list = [1; 2; 1; 5; 9; 4; 6; 3; 7; 2; 5; 1; 6; 1]\n"
      ]
     },
     "execution_count": 5,
     "metadata": {},
     "output_type": "execute_result"
    }
   ],
   "source": [
    "_concat [1;2] [1;5;9;4;6;3;7;2;5;1;6;1]"
   ]
  },
  {
   "cell_type": "code",
   "execution_count": 6,
   "id": "3e68461d-1292-4dbf-96bb-518cae07f4b0",
   "metadata": {},
   "outputs": [
    {
     "data": {
      "text/plain": [
       "- : int list * int list = ([1; 1; 1], [5; 9; 4; 6; 3; 7; 2; 5; 6])\n"
      ]
     },
     "execution_count": 6,
     "metadata": {},
     "output_type": "execute_result"
    }
   ],
   "source": [
    "_partition 2 [1;5;9;4;6;3;7;2;5;1;6;1]"
   ]
  },
  {
   "cell_type": "code",
   "execution_count": 7,
   "id": "779a3386-13c5-40be-85dc-745fec9d0b34",
   "metadata": {},
   "outputs": [
    {
     "data": {
      "text/plain": [
       "- : int list = [1; 1; 1; 2; 3; 4; 5; 5; 6; 6; 7; 9]\n"
      ]
     },
     "execution_count": 7,
     "metadata": {},
     "output_type": "execute_result"
    }
   ],
   "source": [
    "quicksort [1;5;9;4;6;3;7;2;5;1;6;1]"
   ]
  },
  {
   "cell_type": "code",
   "execution_count": 12,
   "id": "403906b7-802d-4ef1-a5b9-aa4192e86597",
   "metadata": {},
   "outputs": [
    {
     "data": {
      "text/plain": [
       "- : int array = [|1; 1; 1; 2; 3; 4; 5; 5; 6; 6; 7; 9|]\n"
      ]
     },
     "execution_count": 12,
     "metadata": {},
     "output_type": "execute_result"
    }
   ],
   "source": [
    "tri_comptage [|1;5;9;4;6;3;7;2;5;1;6;1|]"
   ]
  },
  {
   "cell_type": "code",
   "execution_count": 13,
   "id": "bf32cbbb-4b79-4a7e-b02a-c7540b5b0de8",
   "metadata": {},
   "outputs": [
    {
     "data": {
      "text/plain": [
       "- : int list * int list = ([1; 9; 6; 7; 5; 6], [5; 4; 3; 2; 1; 1])\n"
      ]
     },
     "execution_count": 13,
     "metadata": {},
     "output_type": "execute_result"
    }
   ],
   "source": [
    "split [1;5;9;4;6;3;7;2;5;1;6;1]"
   ]
  },
  {
   "cell_type": "code",
   "execution_count": 14,
   "id": "16391098-b885-4c9d-a510-bbdb3ac2f658",
   "metadata": {},
   "outputs": [
    {
     "data": {
      "text/plain": [
       "- : int list = [1; 1; 2; 5; 9; 4; 6; 3; 7; 2; 5; 1; 6; 1]\n"
      ]
     },
     "execution_count": 14,
     "metadata": {},
     "output_type": "execute_result"
    }
   ],
   "source": [
    "fusion [1;5;9;4;6;3;7;2;5;1;6;1] [1;2]"
   ]
  },
  {
   "cell_type": "code",
   "execution_count": 15,
   "id": "7ac8f2a5-4d60-4f7b-bec9-bcaad2bcdb96",
   "metadata": {},
   "outputs": [
    {
     "data": {
      "text/plain": [
       "- : int list = [1; 1; 1; 2; 3; 4; 5; 5; 6; 6; 7; 9]\n"
      ]
     },
     "execution_count": 15,
     "metadata": {},
     "output_type": "execute_result"
    }
   ],
   "source": [
    "tri [1;5;9;4;6;3;7;2;5;1;6;1]"
   ]
  }
 ],
 "metadata": {
  "kernelspec": {
   "display_name": "OCaml default",
   "language": "OCaml",
   "name": "ocaml-jupyter"
  },
  "language_info": {
   "codemirror_mode": "text/x-ocaml",
   "file_extension": ".ml",
   "mimetype": "text/x-ocaml",
   "name": "OCaml",
   "nbconverter_exporter": null,
   "pygments_lexer": "OCaml",
   "version": "4.08.1"
  }
 },
 "nbformat": 4,
 "nbformat_minor": 5
}

