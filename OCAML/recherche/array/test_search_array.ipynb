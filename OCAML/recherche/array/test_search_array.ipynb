{
 "cells": [
  {
   "cell_type": "code",
   "execution_count": 2,
   "id": "ec64c080-ec42-4d6e-a27a-694986145108",
   "metadata": {},
   "outputs": [
    {
     "name": "stdout",
     "output_type": "stream",
     "text": [
      "val dicho : 'a array -> 'a -> bool = <fun>\n",
      "val tricho : 'a array -> 'a -> bool = <fun>\n",
      "val max_local : 'a array -> int = <fun>\n",
      "val tranche_max : int array -> int = <fun>\n"
     ]
    }
   ],
   "source": [
    "#use \"search_array.ml\""
   ]
  },
  {
   "cell_type": "code",
   "execution_count": 3,
   "id": "72a52b0c-d2a6-4a95-a6d9-033a9c8f8900",
   "metadata": {},
   "outputs": [
    {
     "data": {
      "text/plain": [
       "- : bool = true\n"
      ]
     },
     "execution_count": 3,
     "metadata": {},
     "output_type": "execute_result"
    }
   ],
   "source": [
    "dicho [|1;3;8;1;5;4;9;10|] 4"
   ]
  },
  {
   "cell_type": "code",
   "execution_count": 4,
   "id": "b57ed96a-d070-4dbc-9ce7-25b7e327a73f",
   "metadata": {},
   "outputs": [
    {
     "data": {
      "text/plain": [
       "- : bool = true\n"
      ]
     },
     "execution_count": 4,
     "metadata": {},
     "output_type": "execute_result"
    }
   ],
   "source": [
    "tricho [|1;3;8;1;5;4;9;10|] 4"
   ]
  },
  {
   "cell_type": "code",
   "execution_count": 6,
   "id": "fd8a0bc2-19ed-48e0-bd21-ef0b2be86051",
   "metadata": {},
   "outputs": [
    {
     "data": {
      "text/plain": [
       "- : int = 4\n"
      ]
     },
     "execution_count": 6,
     "metadata": {},
     "output_type": "execute_result"
    }
   ],
   "source": [
    "max_local [|1;3;8;1;5;4;9;10|]"
   ]
  },
  {
   "cell_type": "code",
   "execution_count": null,
   "id": "5584231d-1e09-4b60-aa61-7f687fa9f25e",
   "metadata": {},
   "outputs": [],
   "source": []
  }
 ],
 "metadata": {
  "kernelspec": {
   "display_name": "OCaml default",
   "language": "OCaml",
   "name": "ocaml-jupyter"
  },
  "language_info": {
   "codemirror_mode": "text/x-ocaml",
   "file_extension": ".ml",
   "mimetype": "text/x-ocaml",
   "name": "OCaml",
   "nbconverter_exporter": null,
   "pygments_lexer": "OCaml",
   "version": "4.08.1"
  }
 },
 "nbformat": 4,
 "nbformat_minor": 5
}
