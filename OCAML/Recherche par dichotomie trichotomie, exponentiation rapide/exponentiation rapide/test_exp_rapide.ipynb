{
 "cells": [
  {
   "cell_type": "code",
   "execution_count": 3,
   "id": "6e4d6434-792d-4c57-b9bf-c81ea35bef3d",
   "metadata": {},
   "outputs": [
    {
     "data": {
      "text/plain": [
       "val exp_rapide : int -> int -> int = <fun>\n"
      ]
     },
     "execution_count": 3,
     "metadata": {},
     "output_type": "execute_result"
    }
   ],
   "source": [
    "let rec exp_rapide a n =\n",
    "    if n = 0 then 1\n",
    "    else let b = exp_rapide a (n/2) in\n",
    "    if n mod 2 = 0 then b*b\n",
    "    else a*b*b"
   ]
  },
  {
   "cell_type": "code",
   "execution_count": 4,
   "id": "dab920a6-2a9c-4c74-a748-e87c46d97216",
   "metadata": {},
   "outputs": [
    {
     "data": {
      "text/plain": [
       "- : int = 32\n"
      ]
     },
     "execution_count": 4,
     "metadata": {},
     "output_type": "execute_result"
    }
   ],
   "source": [
    "exp_rapide 2 5"
   ]
  }
 ],
 "metadata": {
  "kernelspec": {
   "display_name": "OCaml default",
   "language": "OCaml",
   "name": "ocaml-jupyter"
  },
  "language_info": {
   "codemirror_mode": "text/x-ocaml",
   "file_extension": ".ml",
   "mimetype": "text/x-ocaml",
   "name": "OCaml",
   "nbconverter_exporter": null,
   "pygments_lexer": "OCaml",
   "version": "4.08.1"
  }
 },
 "nbformat": 4,
 "nbformat_minor": 5
}
