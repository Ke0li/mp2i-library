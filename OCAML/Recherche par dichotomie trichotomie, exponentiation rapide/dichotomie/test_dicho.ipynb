{
 "cells": [
  {
   "cell_type": "code",
   "execution_count": 1,
   "id": "5862c1df-2bb2-4001-b677-9441be50debc",
   "metadata": {},
   "outputs": [
    {
     "data": {
      "text/plain": [
       "val dicho : 'a array -> 'a -> bool = <fun>\n"
      ]
     },
     "execution_count": 1,
     "metadata": {},
     "output_type": "execute_result"
    }
   ],
   "source": [
    "let dicho t e =\n",
    "(* détermine si e appartient au tableau trié t *)\n",
    "let rec aux i j =\n",
    "(* détermine si e appartient à t.(i), ..., t.(j) *)\n",
    "    if i > j then false (* aucun élément *)\n",
    "        else let m = (i + j)/2 in (* milieu *)\n",
    "            if t.(m) = e then true\n",
    "                else if t.(m) < e then aux (m + 1) j\n",
    "                    else aux i (m - 1) (* regarde à gauche *)\n",
    "    in aux 0 (Array.length t - 1)"
   ]
  },
  {
   "cell_type": "code",
   "execution_count": 2,
   "id": "71e94413-75f5-461b-9113-69ef69191b27",
   "metadata": {},
   "outputs": [
    {
     "data": {
      "text/plain": [
       "- : bool = false\n"
      ]
     },
     "execution_count": 2,
     "metadata": {},
     "output_type": "execute_result"
    }
   ],
   "source": [
    "dicho [|1;3;8;1;6;4;9;10|] 6"
   ]
  }
 ],
 "metadata": {
  "kernelspec": {
   "display_name": "OCaml default",
   "language": "OCaml",
   "name": "ocaml-jupyter"
  },
  "language_info": {
   "codemirror_mode": "text/x-ocaml",
   "file_extension": ".ml",
   "mimetype": "text/x-ocaml",
   "name": "OCaml",
   "nbconverter_exporter": null,
   "pygments_lexer": "OCaml",
   "version": "4.08.1"
  }
 },
 "nbformat": 4,
 "nbformat_minor": 5
}
