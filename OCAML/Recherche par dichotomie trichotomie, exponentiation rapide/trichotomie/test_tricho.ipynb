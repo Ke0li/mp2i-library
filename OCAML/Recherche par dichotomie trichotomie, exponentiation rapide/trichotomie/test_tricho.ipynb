{
 "cells": [
  {
   "cell_type": "code",
   "execution_count": 1,
   "id": "45b17fff-76f7-4f49-9a90-c26e39263553",
   "metadata": {},
   "outputs": [
    {
     "data": {
      "text/plain": [
       "val tricho : 'a array -> 'a -> bool = <fun>\n"
      ]
     },
     "execution_count": 1,
     "metadata": {},
     "output_type": "execute_result"
    }
   ],
   "source": [
    "let tricho t e =\n",
    "  let rec aux i j =\n",
    "    if i > j then false\n",
    "      else let m1 = (2*i + j + 1)/3 in\n",
    "      let m2 = (i + 2*j + 2)/3 in\n",
    "      if t.(m1) = e || t.(m2) = e then true\n",
    "        else if e < t.(m1) then aux i (m1 - 1)\n",
    "        else if e < t.(m2) then aux (m1 + 1) (m2 - 1)\n",
    "        else aux (m2 + 1) j in\n",
    "  aux 0 (Array.length t - 1)"
   ]
  },
  {
   "cell_type": "code",
   "execution_count": 2,
   "id": "b8951327-b0da-483a-9f72-d579adc6e289",
   "metadata": {},
   "outputs": [
    {
     "data": {
      "text/plain": [
       "- : bool = true\n"
      ]
     },
     "execution_count": 2,
     "metadata": {},
     "output_type": "execute_result"
    }
   ],
   "source": [
    "tricho [|1;3;5;8;6;4;3;4;6|] 3"
   ]
  }
 ],
 "metadata": {
  "kernelspec": {
   "display_name": "OCaml default",
   "language": "OCaml",
   "name": "ocaml-jupyter"
  },
  "language_info": {
   "codemirror_mode": "text/x-ocaml",
   "file_extension": ".ml",
   "mimetype": "text/x-ocaml",
   "name": "OCaml",
   "nbconverter_exporter": null,
   "pygments_lexer": "OCaml",
   "version": "4.08.1"
  }
 },
 "nbformat": 4,
 "nbformat_minor": 5
}
