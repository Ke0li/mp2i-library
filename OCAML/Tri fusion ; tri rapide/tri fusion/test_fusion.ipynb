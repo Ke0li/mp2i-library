{
 "cells": [
  {
   "cell_type": "code",
   "execution_count": 1,
   "id": "6fbc31ed-36f7-4a27-a2d1-fc7467e4a506",
   "metadata": {},
   "outputs": [
    {
     "data": {
      "text/plain": [
       "val split : 'a list -> 'a list * 'a list = <fun>\n"
      ]
     },
     "execution_count": 1,
     "metadata": {},
     "output_type": "execute_result"
    },
    {
     "data": {
      "text/plain": [
       "val fusion : 'a list -> 'a list -> 'a list = <fun>\n"
      ]
     },
     "execution_count": 1,
     "metadata": {},
     "output_type": "execute_result"
    },
    {
     "data": {
      "text/plain": [
       "val tri : 'a list -> 'a list = <fun>\n"
      ]
     },
     "execution_count": 1,
     "metadata": {},
     "output_type": "execute_result"
    }
   ],
   "source": [
    "let rec split = function\n",
    "  | [] -> [], []\n",
    "  | [e] -> [e], []\n",
    "  | e1::e2::q -> let q1, q2 = split q in\n",
    "  e1::q1, e2::q2\n",
    "  \n",
    "  \n",
    "let rec fusion l1 l2 = match l1, l2 with\n",
    "  | [], _ -> l2\n",
    "  | _, [] -> l1\n",
    "  | e1::q1, e2::q2 when e1 < e2 -> e1::fusion q1 l2\n",
    "  | e1::q1, e2::q2 -> e2::fusion l1 q2\n",
    "  \n",
    "  \n",
    "let rec tri = function\n",
    "  | [] -> []\n",
    "  | [e] -> [e] (* tri ne termine pas sans ce cas *)\n",
    "  | l -> let l1, l2 = split l in\n",
    "fusion (tri l1) (tri l2);;"
   ]
  },
  {
   "cell_type": "code",
   "execution_count": 3,
   "id": "5d1ac702-77a7-4575-8ce8-1ce5d0662a61",
   "metadata": {},
   "outputs": [
    {
     "data": {
      "text/plain": [
       "- : int list = [1; 2; 3; 4; 5; 6]\n"
      ]
     },
     "execution_count": 3,
     "metadata": {},
     "output_type": "execute_result"
    }
   ],
   "source": [
    "tri [4;5;6;3;1;2]"
   ]
  }
 ],
 "metadata": {
  "kernelspec": {
   "display_name": "OCaml default",
   "language": "OCaml",
   "name": "ocaml-jupyter"
  },
  "language_info": {
   "codemirror_mode": "text/x-ocaml",
   "file_extension": ".ml",
   "mimetype": "text/x-ocaml",
   "name": "OCaml",
   "nbconverter_exporter": null,
   "pygments_lexer": "OCaml",
   "version": "4.08.1"
  }
 },
 "nbformat": 4,
 "nbformat_minor": 5
}
