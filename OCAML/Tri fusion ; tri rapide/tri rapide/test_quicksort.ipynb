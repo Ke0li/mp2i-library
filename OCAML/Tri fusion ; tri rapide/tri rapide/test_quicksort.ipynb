{
 "cells": [
  {
   "cell_type": "code",
   "execution_count": 9,
   "id": "9d334897-6369-40b3-a3d9-7dad55692014",
   "metadata": {},
   "outputs": [
    {
     "data": {
      "text/plain": [
       "val _concat : 'a list -> 'a list -> 'a list = <fun>\n"
      ]
     },
     "execution_count": 9,
     "metadata": {},
     "output_type": "execute_result"
    }
   ],
   "source": [
    "let rec _concat l1 l2 = match l1 with\n",
    "    | [] -> l2\n",
    "    | e::q -> e::(_concat q l2);;"
   ]
  },
  {
   "cell_type": "code",
   "execution_count": 10,
   "id": "8a0f9a40-900e-4378-9be0-a34a7492b604",
   "metadata": {},
   "outputs": [
    {
     "data": {
      "text/plain": [
       "val _partition : 'a -> 'a list -> 'a list * 'a list = <fun>\n"
      ]
     },
     "execution_count": 10,
     "metadata": {},
     "output_type": "execute_result"
    }
   ],
   "source": [
    "let rec _partition p l = match l with\n",
    "    | [] -> ([], [])\n",
    "    | e::q -> let l1, l2 = (_partition p q) in\n",
    "                if e < p then ((e::l1), l2)\n",
    "                else (l1, (e::l2));;"
   ]
  },
  {
   "cell_type": "code",
   "execution_count": 11,
   "id": "c245c0b1-b211-4869-aef7-d458e954bb7a",
   "metadata": {},
   "outputs": [
    {
     "data": {
      "text/plain": [
       "val quicksort : 'a list -> 'a list = <fun>\n"
      ]
     },
     "execution_count": 11,
     "metadata": {},
     "output_type": "execute_result"
    }
   ],
   "source": [
    "let rec quicksort l = match l with\n",
    "    | [] -> []\n",
    "    | [e] -> [e]\n",
    "    | e::q -> let l1, l2 = _partition e q in\n",
    "        _concat (quicksort l1) (e::quicksort l2);;"
   ]
  },
  {
   "cell_type": "code",
   "execution_count": 12,
   "id": "1f1207c2-28fc-4b1c-ad58-0dd9e13d07cb",
   "metadata": {},
   "outputs": [
    {
     "data": {
      "text/plain": [
       "- : int list = [3; 4; 5]\n"
      ]
     },
     "execution_count": 12,
     "metadata": {},
     "output_type": "execute_result"
    }
   ],
   "source": [
    "quicksort [5;3;4]"
   ]
  },
  {
   "cell_type": "code",
   "execution_count": null,
   "id": "b8beb117-6e58-4b6f-ab3d-dcbb0fd5adf0",
   "metadata": {},
   "outputs": [],
   "source": []
  },
  {
   "cell_type": "code",
   "execution_count": null,
   "id": "1cc230a8-80c3-455e-9b81-9f88a158a185",
   "metadata": {},
   "outputs": [],
   "source": []
  },
  {
   "cell_type": "code",
   "execution_count": null,
   "id": "b4407d04-416c-4f70-8222-f2bd4ce2b9b3",
   "metadata": {},
   "outputs": [],
   "source": []
  }
 ],
 "metadata": {
  "kernelspec": {
   "display_name": "OCaml default",
   "language": "OCaml",
   "name": "ocaml-jupyter"
  },
  "language_info": {
   "codemirror_mode": "text/x-ocaml",
   "file_extension": ".ml",
   "mimetype": "text/x-ocaml",
   "name": "OCaml",
   "nbconverter_exporter": null,
   "pygments_lexer": "OCaml",
   "version": "4.08.1"
  }
 },
 "nbformat": 4,
 "nbformat_minor": 5
}
